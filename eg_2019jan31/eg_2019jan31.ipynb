{
  "nbformat": 4,
  "nbformat_minor": 0,
  "metadata": {
    "colab": {
      "name": "eg_2019jan31.ipynb",
      "version": "0.3.2",
      "provenance": [],
      "toc_visible": true,
      "include_colab_link": true
    },
    "kernelspec": {
      "name": "python3",
      "display_name": "Python 3"
    }
  },
  "cells": [
    {
      "cell_type": "markdown",
      "metadata": {
        "id": "view-in-github",
        "colab_type": "text"
      },
      "source": [
        "<a href=\"https://colab.research.google.com/github/zaq9/nk225op_data/blob/master/eg_2019jan31/eg_2019jan31.ipynb\" target=\"_parent\"><img src=\"https://colab.research.google.com/assets/colab-badge.svg\" alt=\"Open In Colab\"/></a>"
      ]
    },
    {
      "metadata": {
        "id": "3e8PeQSZwjwL",
        "colab_type": "text"
      },
      "cell_type": "markdown",
      "source": [
        "# 概要：\n",
        "東京証券取引所のサーバから、本日取引最終日を迎えた２月第一週限の日経２２５オプションの清算値を取り出す。\n",
        "\n",
        "*   [今週PyPIに登録した自作モジュールnk225op ](https://qiita.com/zaq9/items/3490691bb6ad3adb4281)　のテスト\n",
        "\n",
        "#準備:\n",
        "(Google colabを活用してブラウザから実行する場合）\n",
        "\n",
        "モジュールをPyPiからインストール\n",
        "\n",
        "※　注意点：ランタイムはPython３以上を選択（ブラウザから切り替えも可能）"
      ]
    },
    {
      "metadata": {
        "id": "OP_hDtYowW7k",
        "colab_type": "code",
        "colab": {}
      },
      "cell_type": "code",
      "source": [
        "!pip install -q nk225op"
      ],
      "execution_count": 0,
      "outputs": []
    },
    {
      "metadata": {
        "id": "3XC2V_LSzBTK",
        "colab_type": "text"
      },
      "cell_type": "markdown",
      "source": [
        "#実行\n",
        "今回は権利価格20250円から21250円のものを取り出す。\n",
        "（参考：日経平均終値20750円）"
      ]
    },
    {
      "metadata": {
        "id": "lOrS2CvQv89-",
        "colab_type": "code",
        "colab": {},
        "outputId": "e57a12e5-7d01-4ebb-c6ac-538bbba601c0"
      },
      "cell_type": "code",
      "source": [
        "from nk225op import nk225op as nk\n",
        "df = nk([20190201],[20250,21250])\n",
        "df\n"
      ],
      "execution_count": 0,
      "outputs": [
        {
          "output_type": "stream",
          "text": [
            "             PRICE       IV\n",
            "lb                         \n",
            "0201/C20250    525  23.0092\n",
            "0201/C20375    400  18.1876\n",
            "0201/C20500    280  17.6752\n",
            "0201/C20625    165  15.2089\n",
            "0201/C20750     78  15.1290\n",
            "0201/C20875     25  14.5363\n",
            "0201/C21000      8  15.9738\n",
            "0201/C21125      1  15.0896\n",
            "0201/C21250      1  18.7987\n",
            "0201/P20250      1  21.7148\n",
            "0201/P20375      2  19.0047\n",
            "0201/P20500      5  16.6298\n",
            "0201/P20625     18  15.7177\n",
            "0201/P20750     53  14.7758\n",
            "0201/P20875    135  16.8649\n",
            "0201/P21000    240  18.5624\n",
            "0201/P21125    360  22.4501\n",
            "0201/P21250    485  28.2931\n"
          ],
          "name": "stdout"
        }
      ]
    },
    {
      "metadata": {
        "id": "-frkA0VJ0hrk",
        "colab_type": "text"
      },
      "cell_type": "markdown",
      "source": [
        "#注意点：\n",
        "\n",
        "\n",
        "*   ランタイムはPython３以上を選択（ブラウザから切り替えも可能）\n",
        "*   同じパラメータで同じ実行結果になるのは2019年2月1日16時ころまで（翌日以降は2月1日限データは、SQ通過後取引できなくなるので、サーバーから清算値データがなくなる\n",
        "\n"
      ]
    }
  ]
}