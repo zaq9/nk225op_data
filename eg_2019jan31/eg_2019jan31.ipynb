{
 "cells": [
  {
   "cell_type": "code",
   "execution_count": 18,
   "metadata": {},
   "outputs": [],
   "source": [
    "from nk225op import nk225op as nk\n",
    "df = nk([20190201],[20250,21250])"
   ]
  },
  {
   "cell_type": "code",
   "execution_count": 19,
   "metadata": {},
   "outputs": [
    {
     "name": "stdout",
     "output_type": "stream",
     "text": [
      "             PRICE       IV\nlb                         \n0201/C20250    525  23.0092\n0201/C20375    400  18.1876\n0201/C20500    280  17.6752\n0201/C20625    165  15.2089\n0201/C20750     78  15.1290\n0201/C20875     25  14.5363\n0201/C21000      8  15.9738\n0201/C21125      1  15.0896\n0201/C21250      1  18.7987\n0201/P20250      1  21.7148\n0201/P20375      2  19.0047\n0201/P20500      5  16.6298\n0201/P20625     18  15.7177\n0201/P20750     53  14.7758\n0201/P20875    135  16.8649\n0201/P21000    240  18.5624\n0201/P21125    360  22.4501\n0201/P21250    485  28.2931\n"
     ]
    }
   ],
   "source": [
    "print(df)"
   ]
  }
 ],
 "metadata": {
  "kernelspec": {
   "display_name": "Python 2",
   "language": "python",
   "name": "python2"
  },
  "language_info": {
   "codemirror_mode": {
    "name": "ipython",
    "version": 2
   },
   "file_extension": ".py",
   "mimetype": "text/x-python",
   "name": "python",
   "nbconvert_exporter": "python",
   "pygments_lexer": "ipython2",
   "version": "2.7.6"
  }
 },
 "nbformat": 4,
 "nbformat_minor": 0
}
